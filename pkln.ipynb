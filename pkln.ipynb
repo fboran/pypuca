{
 "cells": [
  {
   "cell_type": "code",
   "execution_count": 1,
   "metadata": {},
   "outputs": [],
   "source": [
    "import pandas as pd\n",
    "import os\n",
    "import numpy as np\n",
    "import pickle\n",
    "import re\n",
    "import fnmatch\n",
    "#from optparse import OptionParser # use later  "
   ]
  },
  {
   "cell_type": "code",
   "execution_count": 2,
   "metadata": {},
   "outputs": [],
   "source": [
    "channels=['ch0','ch1','ch10','ch11','ch2','ch3','ch8','ch9']\n",
    "data_dict={}"
   ]
  },
  {
   "cell_type": "code",
   "execution_count": 3,
   "metadata": {},
   "outputs": [
    {
     "name": "stdout",
     "output_type": "stream",
     "text": [
      "../waveform/2019-12-14_18-05-55/Cosmic_Vertical_VBias47V_Ch0-2019-12-14_18-05-55.dat\n",
      "../waveform/2019-12-14_18-05-55/Cosmic_Vertical_VBias47V_Ch1-2019-12-14_18-05-55.dat\n",
      "../waveform/2019-12-14_18-05-55/Cosmic_Vertical_VBias47V_Ch10-2019-12-14_18-05-55.dat\n",
      "../waveform/2019-12-14_18-05-55/Cosmic_Vertical_VBias47V_Ch11-2019-12-14_18-05-55.dat\n",
      "../waveform/2019-12-14_18-05-55/Cosmic_Vertical_VBias47V_Ch2-2019-12-14_18-05-55.dat\n",
      "../waveform/2019-12-14_18-05-55/Cosmic_Vertical_VBias47V_Ch3-2019-12-14_18-05-55.dat\n",
      "../waveform/2019-12-14_18-05-55/Cosmic_Vertical_VBias47V_Ch8-2019-12-14_18-05-55.dat\n",
      "../waveform/2019-12-14_18-05-55/Cosmic_Vertical_VBias47V_Ch9-2019-12-14_18-05-55.dat\n"
     ]
    }
   ],
   "source": [
    "filelist = []\n",
    "dirname = '../waveform/2019-12-14_18-05-55'\n",
    "i=0\n",
    "for filename in sorted(os.listdir(dirname)):\n",
    "    if '.dat' in filename:\n",
    "        print(dirname+'/'+filename)\n",
    "        filelist.append(dirname+'/'+filename)\n",
    "        \n",
    "        fil=pd.concat([pd.read_csv(item, names=[item[1:]]) for item in filelist], axis=1)\n",
    "        #print(fil)\n",
    "        x = pd.DataFrame(fil).to_numpy()\n",
    "        #print(x)    \n",
    "        s=np.transpose(x)\n",
    "        Nevent=int(s.size/2024)\n",
    "        \n",
    "        s=np.transpose(x)\n",
    "        Nevent=int(s.size/2024)\n",
    "        arr=s.reshape(Nevent,2024)\n",
    "        signal=np.delete(arr, np.s_[0:24], axis=1) \n",
    "        \n",
    "        data_dict.update({channels[i] : signal})\n",
    "        #print(signal)\n",
    "        #print(channels[i])\n",
    "        i+= 1\n",
    "        \n",
    "        filelist=[]        \n",
    "\n",
    "output = open('myfile.pkl', 'wb')\n",
    "pickle.dump(data_dict, output)\n",
    "output.close()\n",
    "    "
   ]
  },
  {
   "cell_type": "code",
   "execution_count": 4,
   "metadata": {},
   "outputs": [],
   "source": [
    "pkl_file = open('myfile.pkl', 'rb')\n",
    "mydict2 = pickle.load(pkl_file)\n",
    "pkl_file.close()\n",
    "\n"
   ]
  },
  {
   "cell_type": "code",
   "execution_count": null,
   "metadata": {
    "scrolled": false
   },
   "outputs": [],
   "source": [
    "#mydict2"
   ]
  },
  {
   "cell_type": "code",
   "execution_count": null,
   "metadata": {},
   "outputs": [],
   "source": []
  },
  {
   "cell_type": "code",
   "execution_count": null,
   "metadata": {},
   "outputs": [],
   "source": []
  }
 ],
 "metadata": {
  "hide_input": false,
  "kernelspec": {
   "display_name": "Python 3",
   "language": "python",
   "name": "python3"
  },
  "language_info": {
   "codemirror_mode": {
    "name": "ipython",
    "version": 3
   },
   "file_extension": ".py",
   "mimetype": "text/x-python",
   "name": "python",
   "nbconvert_exporter": "python",
   "pygments_lexer": "ipython3",
   "version": "3.7.6"
  },
  "varInspector": {
   "cols": {
    "lenName": 16,
    "lenType": 16,
    "lenVar": 40
   },
   "kernels_config": {
    "python": {
     "delete_cmd_postfix": "",
     "delete_cmd_prefix": "del ",
     "library": "var_list.py",
     "varRefreshCmd": "print(var_dic_list())"
    },
    "r": {
     "delete_cmd_postfix": ") ",
     "delete_cmd_prefix": "rm(",
     "library": "var_list.r",
     "varRefreshCmd": "cat(var_dic_list()) "
    }
   },
   "types_to_exclude": [
    "module",
    "function",
    "builtin_function_or_method",
    "instance",
    "_Feature"
   ],
   "window_display": false
  }
 },
 "nbformat": 4,
 "nbformat_minor": 1
}
