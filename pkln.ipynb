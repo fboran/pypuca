{
 "cells": [
  {
   "cell_type": "code",
   "execution_count": 1,
   "metadata": {},
   "outputs": [],
   "source": [
    "import pandas as pd\n",
    "import os\n",
    "import numpy as np\n",
    "import pickle\n",
    "#from optparse import OptionParser # use later  "
   ]
  },
  {
   "cell_type": "code",
   "execution_count": 2,
   "metadata": {},
   "outputs": [],
   "source": [
    "channels=['ch0','ch1','ch2','ch3','ch8','ch9','ch10','ch11']\n",
    "data_dict={}"
   ]
  },
  {
   "cell_type": "code",
   "execution_count": 3,
   "metadata": {
    "scrolled": true
   },
   "outputs": [
    {
     "name": "stdout",
     "output_type": "stream",
     "text": [
      "/home/furkan/work/flicanalyzer/waveform/2019-12-14_18-05-55/Cosmic_Vertical_VBias47V_Ch8-2019-12-14_18-05-55.dat\n",
      "[[43690]\n",
      " [43690]\n",
      " [ 1012]\n",
      " ...\n",
      " [ 1537]\n",
      " [ 1542]\n",
      " [ 1531]]\n",
      "(1, 25300000)\n",
      "/home/furkan/work/flicanalyzer/waveform/2019-12-14_18-05-55/Cosmic_Vertical_VBias47V_Ch3-2019-12-14_18-05-55.dat\n",
      "[[43690]\n",
      " [43690]\n",
      " [ 1012]\n",
      " ...\n",
      " [ 1522]\n",
      " [ 1523]\n",
      " [ 1521]]\n",
      "(1, 25300000)\n",
      "/home/furkan/work/flicanalyzer/waveform/2019-12-14_18-05-55/Cosmic_Vertical_VBias47V_Ch1-2019-12-14_18-05-55.dat\n",
      "[[43690]\n",
      " [43690]\n",
      " [ 1012]\n",
      " ...\n",
      " [ 1520]\n",
      " [ 1515]\n",
      " [ 1513]]\n",
      "(1, 25300000)\n",
      "/home/furkan/work/flicanalyzer/waveform/2019-12-14_18-05-55/Cosmic_Vertical_VBias47V_Ch9-2019-12-14_18-05-55.dat\n",
      "[[43690]\n",
      " [43690]\n",
      " [ 1012]\n",
      " ...\n",
      " [ 1541]\n",
      " [ 1536]\n",
      " [ 1538]]\n",
      "(1, 25300000)\n",
      "/home/furkan/work/flicanalyzer/waveform/2019-12-14_18-05-55/Cosmic_Vertical_VBias47V_Ch0-2019-12-14_18-05-55.dat\n",
      "[[43690]\n",
      " [43690]\n",
      " [ 1012]\n",
      " ...\n",
      " [ 1526]\n",
      " [ 1529]\n",
      " [ 1529]]\n",
      "(1, 25300000)\n",
      "/home/furkan/work/flicanalyzer/waveform/2019-12-14_18-05-55/Cosmic_Vertical_VBias47V_Ch2-2019-12-14_18-05-55.dat\n",
      "[[43690]\n",
      " [43690]\n",
      " [ 1012]\n",
      " ...\n",
      " [ 1542]\n",
      " [ 1536]\n",
      " [ 1541]]\n",
      "(1, 25300000)\n",
      "/home/furkan/work/flicanalyzer/waveform/2019-12-14_18-05-55/Cosmic_Vertical_VBias47V_Ch11-2019-12-14_18-05-55.dat\n",
      "[[43690]\n",
      " [43690]\n",
      " [ 1012]\n",
      " ...\n",
      " [ 1526]\n",
      " [ 1519]\n",
      " [ 1537]]\n",
      "(1, 25300000)\n",
      "/home/furkan/work/flicanalyzer/waveform/2019-12-14_18-05-55/Cosmic_Vertical_VBias47V_Ch10-2019-12-14_18-05-55.dat\n",
      "[[43690]\n",
      " [43690]\n",
      " [ 1012]\n",
      " ...\n",
      " [ 1548]\n",
      " [ 1538]\n",
      " [ 1549]]\n",
      "(1, 25300000)\n"
     ]
    }
   ],
   "source": [
    "filelist = []\n",
    "dirname = '/home/furkan/work/flicanalyzer/waveform/2019-12-14_18-05-55'\n",
    "i=0\n",
    "for filename in os.listdir(dirname):\n",
    "    if '.dat' in filename:\n",
    "        print(dirname+'/'+filename)\n",
    "        filelist.append(dirname+'/'+filename)\n",
    "        \n",
    "        fil=pd.concat([pd.read_csv(item, names=[item[:-4]]) for item in filelist], axis=1)\n",
    "        x = pd.DataFrame(fil).to_numpy()\n",
    "        print(x)    \n",
    "        s=np.transpose(x)\n",
    "        print(s.shape)\n",
    "        Nevent=int(s.size/2024)\n",
    "\n",
    "        arr=s.reshape(Nevent,2024)\n",
    "\n",
    "        signal=np.delete(arr, np.s_[0:24], axis=1) \n",
    "\n",
    "        data_dict.update({channels[i] : signal})\n",
    "        i+= 1\n",
    "        \n",
    "        filelist=[]        \n",
    "\n",
    "output = open('myfile.pkl', 'wb')\n",
    "pickle.dump(data_dict, output)\n",
    "output.close()\n",
    "    "
   ]
  },
  {
   "cell_type": "code",
   "execution_count": 4,
   "metadata": {},
   "outputs": [],
   "source": [
    "pkl_file = open('myfile.pkl', 'rb')\n",
    "mydict2 = pickle.load(pkl_file)\n",
    "pkl_file.close()\n"
   ]
  },
  {
   "cell_type": "code",
   "execution_count": 5,
   "metadata": {
    "scrolled": false
   },
   "outputs": [
    {
     "data": {
      "text/plain": [
       "{'ch0': array([[1535, 1541, 1545, ..., 1548, 1551, 1545],\n",
       "        [1534, 1539, 1538, ..., 1526, 1540, 1535],\n",
       "        [1534, 1537, 1539, ..., 1499, 1492, 1495],\n",
       "        ...,\n",
       "        [1536, 1534, 1533, ..., 1539, 1539, 1535],\n",
       "        [1534, 1537, 1532, ..., 1532, 1540, 1537],\n",
       "        [1536, 1537, 1542, ..., 1537, 1542, 1531]]),\n",
       " 'ch1': array([[1533, 1535, 1535, ..., 1511, 1515, 1515],\n",
       "        [1533, 1536, 1535, ..., 1532, 1533, 1533],\n",
       "        [1534, 1533, 1539, ..., 1271, 1267, 1259],\n",
       "        ...,\n",
       "        [1535, 1534, 1536, ..., 1534, 1532, 1531],\n",
       "        [1529, 1539, 1531, ..., 1524, 1529, 1533],\n",
       "        [1537, 1538, 1536, ..., 1522, 1523, 1521]]),\n",
       " 'ch2': array([[1525, 1517, 1520, ..., 1539, 1544, 1534],\n",
       "        [1531, 1525, 1521, ..., 1518, 1521, 1519],\n",
       "        [1519, 1526, 1516, ..., 1419, 1430, 1431],\n",
       "        ...,\n",
       "        [1529, 1519, 1517, ..., 1525, 1520, 1519],\n",
       "        [1530, 1522, 1522, ..., 1500, 1503, 1510],\n",
       "        [1524, 1519, 1521, ..., 1520, 1515, 1513]]),\n",
       " 'ch3': array([[1541, 1541, 1547, ..., 1542, 1543, 1537],\n",
       "        [1541, 1542, 1542, ..., 1537, 1542, 1538],\n",
       "        [1537, 1540, 1533, ..., 1514, 1518, 1519],\n",
       "        ...,\n",
       "        [1544, 1537, 1535, ..., 1540, 1541, 1540],\n",
       "        [1545, 1538, 1539, ..., 1534, 1542, 1535],\n",
       "        [1539, 1532, 1539, ..., 1541, 1536, 1538]]),\n",
       " 'ch8': array([[1539, 1535, 1535, ..., 1525, 1521, 1520],\n",
       "        [1535, 1537, 1535, ..., 1530, 1533, 1544],\n",
       "        [1535, 1529, 1541, ..., 1377, 1391, 1391],\n",
       "        ...,\n",
       "        [1539, 1530, 1535, ..., 1534, 1530, 1530],\n",
       "        [1566, 1563, 1563, ..., 1542, 1527, 1529],\n",
       "        [1534, 1541, 1535, ..., 1526, 1529, 1529]]),\n",
       " 'ch9': array([[1546, 1546, 1553, ..., 1543, 1546, 1546],\n",
       "        [1543, 1544, 1548, ..., 1546, 1539, 1539],\n",
       "        [1544, 1542, 1546, ..., 1476, 1488, 1485],\n",
       "        ...,\n",
       "        [1539, 1554, 1545, ..., 1550, 1545, 1540],\n",
       "        [1546, 1546, 1545, ..., 1535, 1540, 1529],\n",
       "        [1542, 1538, 1541, ..., 1542, 1536, 1541]]),\n",
       " 'ch10': array([[1533, 1529, 1528, ..., 1527, 1535, 1522],\n",
       "        [1529, 1533, 1527, ..., 1529, 1525, 1533],\n",
       "        [1522, 1525, 1532, ..., 1484, 1488, 1496],\n",
       "        ...,\n",
       "        [1534, 1524, 1533, ..., 1537, 1531, 1532],\n",
       "        [1530, 1531, 1531, ..., 1537, 1535, 1533],\n",
       "        [1527, 1527, 1532, ..., 1526, 1519, 1537]]),\n",
       " 'ch11': array([[1545, 1547, 1546, ..., 1542, 1543, 1546],\n",
       "        [1550, 1549, 1545, ..., 1549, 1545, 1540],\n",
       "        [1543, 1539, 1544, ..., 1518, 1518, 1524],\n",
       "        ...,\n",
       "        [1550, 1546, 1547, ..., 1539, 1552, 1548],\n",
       "        [1537, 1540, 1551, ..., 1547, 1547, 1545],\n",
       "        [1537, 1540, 1542, ..., 1548, 1538, 1549]])}"
      ]
     },
     "execution_count": 5,
     "metadata": {},
     "output_type": "execute_result"
    }
   ],
   "source": [
    "mydict2"
   ]
  },
  {
   "cell_type": "code",
   "execution_count": null,
   "metadata": {},
   "outputs": [],
   "source": []
  },
  {
   "cell_type": "code",
   "execution_count": null,
   "metadata": {},
   "outputs": [],
   "source": []
  }
 ],
 "metadata": {
  "kernelspec": {
   "display_name": "Python 3",
   "language": "python",
   "name": "python3"
  },
  "language_info": {
   "codemirror_mode": {
    "name": "ipython",
    "version": 3
   },
   "file_extension": ".py",
   "mimetype": "text/x-python",
   "name": "python",
   "nbconvert_exporter": "python",
   "pygments_lexer": "ipython3",
   "version": "3.7.6"
  }
 },
 "nbformat": 4,
 "nbformat_minor": 1
}
