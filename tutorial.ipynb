{
 "cells": [
  {
   "cell_type": "markdown",
   "metadata": {},
   "source": [
    "# this cell type  is markdown \n",
    "# you can run all code or just cell (shift + enter)\n",
    "\n",
    "you can run all code or just cell (shift + enter)\n",
    "\n",
    "*note This text will be italicized.*\n",
    "\n",
    "## Second Title (PMT,PMT,PMT,PMT,PMTPMT  0101010101)\n",
    "X-arapuca  X-arapuca X-arapuca X-arapuca X-arapuca X-arapuca X-arapuca X-arapuca X-arapuca X-arapuca X-arapuca X-arapuca X-arapuca X-arapuca X-arapuca X-arapuca X-arapuca X-arapuca X-arapuca X-arapuca X-arapuca X-arapuca X-arapuca X-arapuca X-arapuca \n",
    "\n",
    "*italic* and **bold**... this *can be **nested** like* so.\n",
    "\n",
    "### X-arapuca? \n",
    "1. PMT\n",
    "2. PMT\n",
    "3. PMT PMT PMTPMT PMT PMT PMT\n",
    "\n",
    "> 123 qwe wer wer wer \n",
    ">> test 1 2 3 4 test 1 2 3 4\n",
    "#### next cell type will be code\n",
    "regular expression\n",
    "https://github.com/tesla809/intro-to-python-jupyter-notebooks/blob/master/47-Regular%20Expressions.ipynb\n",
    "\n"
   ]
  },
  {
   "cell_type": "code",
   "execution_count": 1,
   "metadata": {},
   "outputs": [
    {
     "name": "stdout",
     "output_type": "stream",
     "text": [
      "X-arapuca\n"
     ]
    }
   ],
   "source": [
    "print('X-arapuca')"
   ]
  },
  {
   "cell_type": "code",
   "execution_count": 2,
   "metadata": {},
   "outputs": [
    {
     "data": {
      "text/plain": [
       "'X-arapuca'"
      ]
     },
     "execution_count": 2,
     "metadata": {},
     "output_type": "execute_result"
    }
   ],
   "source": [
    "'X-arapuca'"
   ]
  },
  {
   "cell_type": "code",
   "execution_count": 3,
   "metadata": {},
   "outputs": [],
   "source": [
    "data ='PMT'"
   ]
  },
  {
   "cell_type": "code",
   "execution_count": 4,
   "metadata": {},
   "outputs": [
    {
     "data": {
      "text/plain": [
       "'PMT'"
      ]
     },
     "execution_count": 4,
     "metadata": {},
     "output_type": "execute_result"
    }
   ],
   "source": [
    "data"
   ]
  },
  {
   "cell_type": "code",
   "execution_count": 5,
   "metadata": {},
   "outputs": [
    {
     "data": {
      "text/plain": [
       "'X-arapuca'"
      ]
     },
     "execution_count": 5,
     "metadata": {},
     "output_type": "execute_result"
    }
   ],
   "source": [
    "data = 'X-arapuca'\n",
    "data"
   ]
  },
  {
   "cell_type": "code",
   "execution_count": 6,
   "metadata": {},
   "outputs": [
    {
     "name": "stdout",
     "output_type": "stream",
     "text": [
      "arapuca.py\t  LICENSE     plt_all.ipynb  set.ipynb\ttests\r\n",
      "environment.yaml  myfile.pkl  plt.ipynb      setup.py\ttutorial.ipynb\r\n",
      "later\t\t  pkln.ipynb  README.md      src\r\n"
     ]
    }
   ],
   "source": [
    "!ls"
   ]
  },
  {
   "cell_type": "code",
   "execution_count": 7,
   "metadata": {},
   "outputs": [
    {
     "data": {
      "application/json": {
       "cell": {
        "!": "OSMagics",
        "HTML": "Other",
        "SVG": "Other",
        "bash": "Other",
        "capture": "ExecutionMagics",
        "debug": "ExecutionMagics",
        "file": "Other",
        "html": "DisplayMagics",
        "javascript": "DisplayMagics",
        "js": "DisplayMagics",
        "latex": "DisplayMagics",
        "markdown": "DisplayMagics",
        "perl": "Other",
        "prun": "ExecutionMagics",
        "pypy": "Other",
        "python": "Other",
        "python2": "Other",
        "python3": "Other",
        "ruby": "Other",
        "script": "ScriptMagics",
        "sh": "Other",
        "svg": "DisplayMagics",
        "sx": "OSMagics",
        "system": "OSMagics",
        "time": "ExecutionMagics",
        "timeit": "ExecutionMagics",
        "writefile": "OSMagics"
       },
       "line": {
        "alias": "OSMagics",
        "alias_magic": "BasicMagics",
        "autoawait": "AsyncMagics",
        "autocall": "AutoMagics",
        "automagic": "AutoMagics",
        "autosave": "KernelMagics",
        "bookmark": "OSMagics",
        "cat": "Other",
        "cd": "OSMagics",
        "clear": "KernelMagics",
        "colors": "BasicMagics",
        "conda": "PackagingMagics",
        "config": "ConfigMagics",
        "connect_info": "KernelMagics",
        "cp": "Other",
        "debug": "ExecutionMagics",
        "dhist": "OSMagics",
        "dirs": "OSMagics",
        "doctest_mode": "BasicMagics",
        "ed": "Other",
        "edit": "KernelMagics",
        "env": "OSMagics",
        "gui": "BasicMagics",
        "hist": "Other",
        "history": "HistoryMagics",
        "killbgscripts": "ScriptMagics",
        "ldir": "Other",
        "less": "KernelMagics",
        "lf": "Other",
        "lk": "Other",
        "ll": "Other",
        "load": "CodeMagics",
        "load_ext": "ExtensionMagics",
        "loadpy": "CodeMagics",
        "logoff": "LoggingMagics",
        "logon": "LoggingMagics",
        "logstart": "LoggingMagics",
        "logstate": "LoggingMagics",
        "logstop": "LoggingMagics",
        "ls": "Other",
        "lsmagic": "BasicMagics",
        "lx": "Other",
        "macro": "ExecutionMagics",
        "magic": "BasicMagics",
        "man": "KernelMagics",
        "matplotlib": "PylabMagics",
        "mkdir": "Other",
        "more": "KernelMagics",
        "mv": "Other",
        "notebook": "BasicMagics",
        "page": "BasicMagics",
        "pastebin": "CodeMagics",
        "pdb": "ExecutionMagics",
        "pdef": "NamespaceMagics",
        "pdoc": "NamespaceMagics",
        "pfile": "NamespaceMagics",
        "pinfo": "NamespaceMagics",
        "pinfo2": "NamespaceMagics",
        "pip": "PackagingMagics",
        "popd": "OSMagics",
        "pprint": "BasicMagics",
        "precision": "BasicMagics",
        "prun": "ExecutionMagics",
        "psearch": "NamespaceMagics",
        "psource": "NamespaceMagics",
        "pushd": "OSMagics",
        "pwd": "OSMagics",
        "pycat": "OSMagics",
        "pylab": "PylabMagics",
        "qtconsole": "KernelMagics",
        "quickref": "BasicMagics",
        "recall": "HistoryMagics",
        "rehashx": "OSMagics",
        "reload_ext": "ExtensionMagics",
        "rep": "Other",
        "rerun": "HistoryMagics",
        "reset": "NamespaceMagics",
        "reset_selective": "NamespaceMagics",
        "rm": "Other",
        "rmdir": "Other",
        "run": "ExecutionMagics",
        "save": "CodeMagics",
        "sc": "OSMagics",
        "set_env": "OSMagics",
        "store": "StoreMagics",
        "sx": "OSMagics",
        "system": "OSMagics",
        "tb": "ExecutionMagics",
        "time": "ExecutionMagics",
        "timeit": "ExecutionMagics",
        "unalias": "OSMagics",
        "unload_ext": "ExtensionMagics",
        "who": "NamespaceMagics",
        "who_ls": "NamespaceMagics",
        "whos": "NamespaceMagics",
        "xdel": "NamespaceMagics",
        "xmode": "BasicMagics"
       }
      },
      "text/plain": [
       "Available line magics:\n",
       "%alias  %alias_magic  %autoawait  %autocall  %automagic  %autosave  %bookmark  %cat  %cd  %clear  %colors  %conda  %config  %connect_info  %cp  %debug  %dhist  %dirs  %doctest_mode  %ed  %edit  %env  %gui  %hist  %history  %killbgscripts  %ldir  %less  %lf  %lk  %ll  %load  %load_ext  %loadpy  %logoff  %logon  %logstart  %logstate  %logstop  %ls  %lsmagic  %lx  %macro  %magic  %man  %matplotlib  %mkdir  %more  %mv  %notebook  %page  %pastebin  %pdb  %pdef  %pdoc  %pfile  %pinfo  %pinfo2  %pip  %popd  %pprint  %precision  %prun  %psearch  %psource  %pushd  %pwd  %pycat  %pylab  %qtconsole  %quickref  %recall  %rehashx  %reload_ext  %rep  %rerun  %reset  %reset_selective  %rm  %rmdir  %run  %save  %sc  %set_env  %store  %sx  %system  %tb  %time  %timeit  %unalias  %unload_ext  %who  %who_ls  %whos  %xdel  %xmode\n",
       "\n",
       "Available cell magics:\n",
       "%%!  %%HTML  %%SVG  %%bash  %%capture  %%debug  %%file  %%html  %%javascript  %%js  %%latex  %%markdown  %%perl  %%prun  %%pypy  %%python  %%python2  %%python3  %%ruby  %%script  %%sh  %%svg  %%sx  %%system  %%time  %%timeit  %%writefile\n",
       "\n",
       "Automagic is ON, % prefix IS NOT needed for line magics."
      ]
     },
     "execution_count": 7,
     "metadata": {},
     "output_type": "execute_result"
    }
   ],
   "source": [
    "%lsmagic # im going to check later."
   ]
  },
  {
   "cell_type": "code",
   "execution_count": 8,
   "metadata": {},
   "outputs": [
    {
     "name": "stdout",
     "output_type": "stream",
     "text": [
      "Package                            Version            \r\n",
      "---------------------------------- -------------------\r\n",
      "alabaster                          0.7.12             \r\n",
      "anaconda-client                    1.7.2              \r\n",
      "anaconda-navigator                 1.9.7              \r\n",
      "anaconda-project                   0.8.3              \r\n",
      "argh                               0.26.2             \r\n",
      "arrow                              0.15.5             \r\n",
      "asn1crypto                         1.3.0              \r\n",
      "aspy.yaml                          1.3.0              \r\n",
      "astroid                            2.3.3              \r\n",
      "astropy                            4.0                \r\n",
      "atomicwrites                       1.3.0              \r\n",
      "attrs                              19.3.0             \r\n",
      "autopep8                           1.4.4              \r\n",
      "awkward                            0.12.6             \r\n",
      "Babel                              2.8.0              \r\n",
      "backcall                           0.1.0              \r\n",
      "backports.functools-lru-cache      1.6.1              \r\n",
      "backports.os                       0.1.1              \r\n",
      "backports.shutil-get-terminal-size 1.0.0              \r\n",
      "backports.tempfile                 1.0                \r\n",
      "backports.weakref                  1.0.post1          \r\n",
      "beautifulsoup4                     4.8.2              \r\n",
      "binaryornot                        0.4.4              \r\n",
      "bitarray                           1.2.0              \r\n",
      "bkcharts                           0.2                \r\n",
      "bleach                             3.1.0              \r\n",
      "bokeh                              1.4.0              \r\n",
      "boto                               2.49.0             \r\n",
      "Bottleneck                         1.3.1              \r\n",
      "cachetools                         3.1.1              \r\n",
      "certifi                            2019.11.28         \r\n",
      "cffi                               1.13.2             \r\n",
      "cfgv                               2.0.1              \r\n",
      "chardet                            3.0.4              \r\n",
      "Click                              7.0                \r\n",
      "cloudpickle                        1.2.2              \r\n",
      "clyent                             1.2.2              \r\n",
      "coffea                             0.6.2              \r\n",
      "colorama                           0.4.3              \r\n",
      "commonmark                         0.9.1              \r\n",
      "conda                              4.8.2              \r\n",
      "conda-build                        3.18.8             \r\n",
      "conda-package-handling             1.6.0              \r\n",
      "conda-verify                       3.4.2              \r\n",
      "contextlib2                        0.6.0.post1        \r\n",
      "cookiecutter                       1.7.0              \r\n",
      "cryptography                       2.8                \r\n",
      "cycler                             0.10.0             \r\n",
      "Cython                             0.29.14            \r\n",
      "cytoolz                            0.10.1             \r\n",
      "dask                               2.9.1              \r\n",
      "decorator                          4.4.1              \r\n",
      "defusedxml                         0.6.0              \r\n",
      "diff-match-patch                   20181111           \r\n",
      "distributed                        2.9.1              \r\n",
      "docutils                           0.15.2             \r\n",
      "entrypoints                        0.3                \r\n",
      "et-xmlfile                         1.0.1              \r\n",
      "fastcache                          1.1.0              \r\n",
      "filelock                           3.0.12             \r\n",
      "flake8                             3.7.9              \r\n",
      "Flask                              1.1.1              \r\n",
      "fsspec                             0.6.2              \r\n",
      "future                             0.18.2             \r\n",
      "gevent                             1.4.0              \r\n",
      "glob2                              0.7                \r\n",
      "gmpy2                              2.0.8              \r\n",
      "greenlet                           0.4.15             \r\n",
      "h5py                               2.9.0              \r\n",
      "HeapDict                           1.0.1              \r\n",
      "html5lib                           1.0.1              \r\n",
      "hypothesis                         4.54.2             \r\n",
      "identify                           1.4.11             \r\n",
      "idna                               2.8                \r\n",
      "imageio                            2.6.1              \r\n",
      "imagesize                          1.2.0              \r\n",
      "importlib-metadata                 1.3.0              \r\n",
      "intervaltree                       3.0.2              \r\n",
      "ipykernel                          5.1.3              \r\n",
      "ipython                            7.11.1             \r\n",
      "ipython-genutils                   0.2.0              \r\n",
      "ipywidgets                         7.5.1              \r\n",
      "isort                              4.3.21             \r\n",
      "itsdangerous                       1.1.0              \r\n",
      "jdcal                              1.4.1              \r\n",
      "jedi                               0.14.1             \r\n",
      "jeepney                            0.4.2              \r\n",
      "Jinja2                             2.10.3             \r\n",
      "jinja2-time                        0.2.0              \r\n",
      "joblib                             0.14.1             \r\n",
      "json5                              0.8.5              \r\n",
      "jsonschema                         3.2.0              \r\n",
      "jupyter                            1.0.0              \r\n",
      "jupyter-client                     5.3.4              \r\n",
      "jupyter-console                    6.0.0              \r\n",
      "jupyter-contrib-core               0.3.3              \r\n",
      "jupyter-contrib-nbextensions       0.5.1              \r\n",
      "jupyter-core                       4.6.1              \r\n",
      "jupyter-highlight-selected-word    0.2.0              \r\n",
      "jupyter-latex-envs                 1.4.4              \r\n",
      "jupyter-nbextensions-configurator  0.4.1              \r\n",
      "jupyterlab                         1.2.4              \r\n",
      "jupyterlab-server                  1.0.6              \r\n",
      "keyring                            20.0.0             \r\n",
      "kiwisolver                         1.1.0              \r\n",
      "lazy-object-proxy                  1.4.3              \r\n",
      "libarchive-c                       2.8                \r\n",
      "lief                               0.9.0              \r\n",
      "llvmlite                           0.31.0             \r\n",
      "locket                             0.2.0              \r\n",
      "lxml                               4.4.2              \r\n",
      "lz4                                2.1.10             \r\n",
      "MarkupSafe                         1.1.1              \r\n",
      "matplotlib                         3.1.2              \r\n",
      "mccabe                             0.6.1              \r\n",
      "mistune                            0.8.4              \r\n",
      "mkl-fft                            1.0.15             \r\n",
      "mkl-random                         1.1.0              \r\n",
      "mkl-service                        2.3.0              \r\n",
      "mock                               3.0.5              \r\n",
      "more-itertools                     8.0.2              \r\n",
      "mpmath                             1.1.0              \r\n",
      "msgpack                            0.6.1              \r\n",
      "multipledispatch                   0.6.0              \r\n",
      "navigator-updater                  0.2.1              \r\n",
      "nbconvert                          5.6.1              \r\n",
      "nbformat                           4.4.0              \r\n",
      "networkx                           2.4                \r\n",
      "nltk                               3.4.5              \r\n",
      "nodeenv                            1.3.4              \r\n",
      "nose                               1.3.7              \r\n",
      "notebook                           6.0.2              \r\n",
      "numba                              0.47.0             \r\n",
      "numexpr                            2.7.0              \r\n",
      "numpy                              1.18.1             \r\n",
      "numpydoc                           0.9.2              \r\n",
      "olefile                            0.46               \r\n",
      "openpyxl                           3.0.2              \r\n",
      "packaging                          20.0               \r\n",
      "pandas                             0.25.3             \r\n",
      "pandocfilters                      1.4.2              \r\n",
      "parso                              0.5.2              \r\n",
      "partd                              1.1.0              \r\n",
      "path                               13.1.0             \r\n",
      "pathlib2                           2.3.5              \r\n",
      "pathtools                          0.1.2              \r\n",
      "patsy                              0.5.1              \r\n",
      "pep8                               1.7.1              \r\n",
      "pexpect                            4.7.0              \r\n",
      "pickleshare                        0.7.5              \r\n",
      "Pillow                             7.0.0              \r\n",
      "pip                                19.3.1             \r\n",
      "pkginfo                            1.5.0.1            \r\n",
      "pluggy                             0.13.1             \r\n",
      "ply                                3.11               \r\n",
      "poyo                               0.5.0              \r\n",
      "pre-commit                         2.0.0              \r\n",
      "prometheus-client                  0.7.1              \r\n",
      "prompt-toolkit                     2.0.9              \r\n",
      "psutil                             5.6.7              \r\n",
      "ptyprocess                         0.6.0              \r\n",
      "py                                 1.8.1              \r\n",
      "pycodestyle                        2.5.0              \r\n",
      "pycosat                            0.6.3              \r\n",
      "pycparser                          2.19               \r\n",
      "pycrypto                           2.6.1              \r\n",
      "pycurl                             7.43.0.3           \r\n",
      "pydocstyle                         4.0.1              \r\n",
      "pyflakes                           2.1.1              \r\n",
      "Pygments                           2.5.2              \r\n",
      "pylint                             2.4.4              \r\n",
      "pyodbc                             4.0.27             \r\n",
      "pyOpenSSL                          19.1.0             \r\n",
      "pyparsing                          2.4.6              \r\n",
      "pyrsistent                         0.15.6             \r\n",
      "PyScaffold                         3.2.2              \r\n",
      "pyscaffoldext-dsproject            0.4                \r\n",
      "pyscaffoldext-markdown             0.3.2              \r\n",
      "PySocks                            1.7.1              \r\n",
      "pytest                             5.3.2              \r\n",
      "pytest-arraydiff                   0.3                \r\n",
      "pytest-astropy                     0.7.0              \r\n",
      "pytest-astropy-header              0.1.1              \r\n",
      "pytest-doctestplus                 0.5.0              \r\n",
      "pytest-openfiles                   0.4.0              \r\n",
      "pytest-remotedata                  0.3.2              \r\n",
      "python-dateutil                    2.8.1              \r\n",
      "python-jsonrpc-server              0.3.2              \r\n",
      "python-language-server             0.31.2             \r\n",
      "pytz                               2019.3             \r\n",
      "PyWavelets                         1.1.1              \r\n",
      "pyxdg                              0.26               \r\n",
      "PyYAML                             5.2                \r\n",
      "pyzmq                              18.1.0             \r\n",
      "QDarkStyle                         2.7                \r\n",
      "QtAwesome                          0.6.0              \r\n",
      "qtconsole                          4.6.0              \r\n",
      "QtPy                               1.9.0              \r\n",
      "recommonmark                       0.6.0              \r\n",
      "requests                           2.22.0             \r\n",
      "root-numpy                         4.8.0              \r\n",
      "rope                               0.14.0             \r\n",
      "Rtree                              0.8.3              \r\n",
      "ruamel-yaml                        0.15.87            \r\n",
      "scikit-image                       0.15.0             \r\n",
      "scikit-learn                       0.22.1             \r\n",
      "scipy                              1.1.0              \r\n",
      "seaborn                            0.9.0              \r\n",
      "SecretStorage                      3.1.1              \r\n",
      "Send2Trash                         1.5.0              \r\n",
      "setuptools                         44.0.0.post20200106\r\n",
      "simplegeneric                      0.8.1              \r\n",
      "singledispatch                     3.4.0.3            \r\n",
      "six                                1.13.0             \r\n",
      "snowballstemmer                    2.0.0              \r\n",
      "sortedcollections                  1.1.2              \r\n",
      "sortedcontainers                   2.1.0              \r\n",
      "soupsieve                          1.9.5              \r\n",
      "Sphinx                             2.3.1              \r\n",
      "sphinxcontrib-applehelp            1.0.1              \r\n",
      "sphinxcontrib-devhelp              1.0.1              \r\n",
      "sphinxcontrib-htmlhelp             1.0.2              \r\n",
      "sphinxcontrib-jsmath               1.0.1              \r\n",
      "sphinxcontrib-qthelp               1.0.2              \r\n",
      "sphinxcontrib-serializinghtml      1.1.3              \r\n",
      "sphinxcontrib-websupport           1.1.2              \r\n",
      "spyder                             4.0.1              \r\n",
      "spyder-kernels                     1.8.1              \r\n",
      "SQLAlchemy                         1.3.12             \r\n",
      "statsmodels                        0.10.1             \r\n",
      "sympy                              1.5.1              \r\n",
      "tables                             3.6.1              \r\n",
      "tblib                              1.6.0              \r\n",
      "terminado                          0.8.3              \r\n",
      "testpath                           0.4.4              \r\n",
      "toml                               0.10.0             \r\n",
      "toolz                              0.10.0             \r\n",
      "tornado                            6.0.3              \r\n",
      "tqdm                               4.41.1             \r\n",
      "traitlets                          4.3.3              \r\n",
      "ujson                              1.35               \r\n",
      "unicodecsv                         0.14.1             \r\n",
      "uproot                             3.8.2              \r\n",
      "uproot-methods                     0.7.0              \r\n",
      "urllib3                            1.25.7             \r\n",
      "virtualenv                         16.7.9             \r\n",
      "watchdog                           0.9.0              \r\n",
      "wcwidth                            0.1.7              \r\n",
      "webencodings                       0.5.1              \r\n",
      "Werkzeug                           0.16.0             \r\n",
      "wheel                              0.33.6             \r\n",
      "whichcraft                         0.6.1              \r\n",
      "widgetsnbextension                 3.5.1              \r\n",
      "wrapt                              1.11.2             \r\n",
      "wurlitzer                          2.0.0              \r\n",
      "xlrd                               1.2.0              \r\n",
      "XlsxWriter                         1.2.7              \r\n",
      "xlwt                               1.3.0              \r\n",
      "xrootd                             4.11.1             \r\n",
      "yapf                               0.28.0             \r\n",
      "zict                               1.0.0              \r\n",
      "zipp                               0.6.0              \r\n"
     ]
    }
   ],
   "source": [
    "!pip list"
   ]
  },
  {
   "cell_type": "code",
   "execution_count": 9,
   "metadata": {},
   "outputs": [
    {
     "data": {
      "text/plain": [
       "'/home/furkan/work/flicanalyzer/pypuca'"
      ]
     },
     "execution_count": 9,
     "metadata": {},
     "output_type": "execute_result"
    }
   ],
   "source": [
    "%pwd"
   ]
  },
  {
   "cell_type": "code",
   "execution_count": 10,
   "metadata": {},
   "outputs": [
    {
     "name": "stdout",
     "output_type": "stream",
     "text": [
      "total 1563284\r\n",
      "drwxr-xr-x 7 furkan furkan       4096 Feb  2 16:27 \u001b[0m\u001b[01;34m.\u001b[0m/\r\n",
      "drwxrwxr-x 8 furkan furkan       4096 Jan 29 21:46 \u001b[01;34m..\u001b[0m/\r\n",
      "-rw-r--r-- 1 furkan furkan       1005 Feb  2 16:23 arapuca.py\r\n",
      "-rw-r--r-- 1 furkan furkan        559 Jan 29 17:16 environment.yaml\r\n",
      "drwxr-xr-x 8 furkan furkan       4096 Feb  2 16:20 \u001b[01;34m.git\u001b[0m/\r\n",
      "-rw-r--r-- 1 furkan furkan       1805 Jan 29 22:40 .gitignore\r\n",
      "drwxr-xr-x 2 furkan furkan       4096 Jan 30 15:07 \u001b[01;34m.ipynb_checkpoints\u001b[0m/\r\n",
      "drwxr-xr-x 9 furkan furkan       4096 Jan 29 17:28 \u001b[01;34mlater\u001b[0m/\r\n",
      "-rw-r--r-- 1 furkan furkan      35149 Jan 29 17:16 LICENSE\r\n",
      "-rw-r--r-- 1 furkan furkan 1600000550 Feb  2 16:24 myfile.pkl\r\n",
      "-rw-r--r-- 1 furkan furkan       4314 Feb  2 16:19 pkln.ipynb\r\n",
      "-rw-r--r-- 1 furkan furkan     206696 Feb  2 02:43 plt_all.ipynb\r\n",
      "-rw-r--r-- 1 furkan furkan     337356 Feb  1 05:34 plt.ipynb\r\n",
      "-rw-r--r-- 1 furkan furkan         13 Jan 29 17:16 README.md\r\n",
      "-rw-r--r-- 1 furkan furkan      81106 Jan 27 20:59 set.ipynb\r\n",
      "-rw-r--r-- 1 furkan furkan        197 Jan 29 17:16 setup.py\r\n",
      "drwxr-xr-x 3 furkan furkan       4096 Jan 29 17:16 \u001b[01;34msrc\u001b[0m/\r\n",
      "drwxr-xr-x 2 furkan furkan       4096 Jan 29 17:16 \u001b[01;34mtests\u001b[0m/\r\n",
      "-rw-r--r-- 1 furkan furkan      68291 Jan 31 22:09 tutorial.ipynb\r\n"
     ]
    }
   ],
   "source": [
    "%ls -all"
   ]
  },
  {
   "cell_type": "code",
   "execution_count": 11,
   "metadata": {},
   "outputs": [],
   "source": [
    "%matplotlib inline "
   ]
  },
  {
   "cell_type": "code",
   "execution_count": 12,
   "metadata": {
    "scrolled": true
   },
   "outputs": [
    {
     "data": {
      "image/png": "[encoded data removed]",
      "text/plain": [
       "<Figure size 432x288 with 1 Axes>"
      ]
     },
     "metadata": {
      "needs_background": "light"
     },
     "output_type": "display_data"
    }
   ],
   "source": [
    "\"\"\"\n",
    "demo of scatter plot.\n",
    "\"\"\"\n",
    "import numpy as np\n",
    "import matplotlib.pyplot as plt\n",
    "\n",
    "N=50\n",
    "x=np.random.rand(N)\n",
    "y=np.random.rand(N)\n",
    "colors = np.random.rand(N)\n",
    "area = np.pi* (15 * np.random.rand(N))**2 # 0 to 15 point radiuses\n",
    "\n",
    "plt.scatter(x, y, s=area, c=colors, alpha=0.5)\n",
    "plt.show()"
   ]
  },
  {
   "cell_type": "code",
   "execution_count": 13,
   "metadata": {
    "scrolled": false
   },
   "outputs": [
    {
     "data": {
      "text/html": [
       "<iframe width=\"800\" height=\"600\" src=\"https://www.youtube.com/embed/2os1rfVXRCM\" frameborder=\"0\" allow=\"accelerometer; autoplay; encrypted-media; gyroscope; picture-in-picture\" allowfullscreen></iframe>\n"
      ],
      "text/plain": [
       "<IPython.core.display.HTML object>"
      ]
     },
     "metadata": {},
     "output_type": "display_data"
    }
   ],
   "source": [
    "%%HTML\n",
    "<iframe width=\"800\" height=\"600\" src=\"https://www.youtube.com/embed/2os1rfVXRCM\" frameborder=\"0\" allow=\"accelerometer; autoplay; encrypted-media; gyroscope; picture-in-picture\" allowfullscreen></iframe>"
   ]
  },
  {
   "cell_type": "code",
   "execution_count": 14,
   "metadata": {},
   "outputs": [
    {
     "name": "stdout",
     "output_type": "stream",
     "text": [
      "7.08 µs ± 237 ns per loop (mean ± std. dev. of 7 runs, 100000 loops each)\n"
     ]
    }
   ],
   "source": [
    "%%timeit\n",
    "square_events= [n*n for n in range(100)]"
   ]
  },
  {
   "cell_type": "markdown",
   "metadata": {},
   "source": [
    "extra jupyter tutorial at the link\n",
    "https://github.com/tesla809/intro-to-python-jupyter-notebooks\n",
    "\n",
    "\n",
    " if you clean kernel and try to run next cell it wont work beacuse needs to import numpy\n",
    " So you need to import numpy as np, or run cell above which one imported numpy"
   ]
  },
  {
   "cell_type": "code",
   "execution_count": 15,
   "metadata": {},
   "outputs": [
    {
     "data": {
      "text/html": [
       "<div>\n",
       "<style scoped>\n",
       "    .dataframe tbody tr th:only-of-type {\n",
       "        vertical-align: middle;\n",
       "    }\n",
       "\n",
       "    .dataframe tbody tr th {\n",
       "        vertical-align: top;\n",
       "    }\n",
       "\n",
       "    .dataframe thead th {\n",
       "        text-align: right;\n",
       "    }\n",
       "</style>\n",
       "<table border=\"1\" class=\"dataframe\">\n",
       "  <thead>\n",
       "    <tr style=\"text-align: right;\">\n",
       "      <th></th>\n",
       "      <th>0</th>\n",
       "      <th>1</th>\n",
       "      <th>2</th>\n",
       "      <th>3</th>\n",
       "      <th>4</th>\n",
       "    </tr>\n",
       "  </thead>\n",
       "  <tbody>\n",
       "    <tr>\n",
       "      <th>0</th>\n",
       "      <td>-1.471735</td>\n",
       "      <td>0.414636</td>\n",
       "      <td>-0.848944</td>\n",
       "      <td>0.221584</td>\n",
       "      <td>0.924999</td>\n",
       "    </tr>\n",
       "    <tr>\n",
       "      <th>1</th>\n",
       "      <td>-0.973335</td>\n",
       "      <td>-0.113012</td>\n",
       "      <td>1.154786</td>\n",
       "      <td>-0.169504</td>\n",
       "      <td>-0.937381</td>\n",
       "    </tr>\n",
       "    <tr>\n",
       "      <th>2</th>\n",
       "      <td>0.230324</td>\n",
       "      <td>1.397997</td>\n",
       "      <td>1.484720</td>\n",
       "      <td>-1.010259</td>\n",
       "      <td>-0.147182</td>\n",
       "    </tr>\n",
       "    <tr>\n",
       "      <th>3</th>\n",
       "      <td>-0.949955</td>\n",
       "      <td>-0.092791</td>\n",
       "      <td>0.729073</td>\n",
       "      <td>1.067498</td>\n",
       "      <td>-0.484951</td>\n",
       "    </tr>\n",
       "    <tr>\n",
       "      <th>4</th>\n",
       "      <td>-0.028991</td>\n",
       "      <td>-0.325178</td>\n",
       "      <td>0.623501</td>\n",
       "      <td>1.305387</td>\n",
       "      <td>-0.743175</td>\n",
       "    </tr>\n",
       "    <tr>\n",
       "      <th>5</th>\n",
       "      <td>-0.124313</td>\n",
       "      <td>-0.035431</td>\n",
       "      <td>-0.748048</td>\n",
       "      <td>0.625470</td>\n",
       "      <td>-0.038630</td>\n",
       "    </tr>\n",
       "    <tr>\n",
       "      <th>6</th>\n",
       "      <td>-1.526550</td>\n",
       "      <td>-0.757613</td>\n",
       "      <td>-1.789652</td>\n",
       "      <td>-1.301008</td>\n",
       "      <td>0.969315</td>\n",
       "    </tr>\n",
       "    <tr>\n",
       "      <th>7</th>\n",
       "      <td>-0.483408</td>\n",
       "      <td>1.211813</td>\n",
       "      <td>0.343808</td>\n",
       "      <td>-0.222253</td>\n",
       "      <td>0.049065</td>\n",
       "    </tr>\n",
       "    <tr>\n",
       "      <th>8</th>\n",
       "      <td>-0.825089</td>\n",
       "      <td>-0.723893</td>\n",
       "      <td>0.560559</td>\n",
       "      <td>0.798014</td>\n",
       "      <td>0.793171</td>\n",
       "    </tr>\n",
       "    <tr>\n",
       "      <th>9</th>\n",
       "      <td>-0.832034</td>\n",
       "      <td>0.942873</td>\n",
       "      <td>-0.304809</td>\n",
       "      <td>-1.616992</td>\n",
       "      <td>1.815363</td>\n",
       "    </tr>\n",
       "  </tbody>\n",
       "</table>\n",
       "</div>"
      ],
      "text/plain": [
       "          0         1         2         3         4\n",
       "0 -1.471735  0.414636 -0.848944  0.221584  0.924999\n",
       "1 -0.973335 -0.113012  1.154786 -0.169504 -0.937381\n",
       "2  0.230324  1.397997  1.484720 -1.010259 -0.147182\n",
       "3 -0.949955 -0.092791  0.729073  1.067498 -0.484951\n",
       "4 -0.028991 -0.325178  0.623501  1.305387 -0.743175\n",
       "5 -0.124313 -0.035431 -0.748048  0.625470 -0.038630\n",
       "6 -1.526550 -0.757613 -1.789652 -1.301008  0.969315\n",
       "7 -0.483408  1.211813  0.343808 -0.222253  0.049065\n",
       "8 -0.825089 -0.723893  0.560559  0.798014  0.793171\n",
       "9 -0.832034  0.942873 -0.304809 -1.616992  1.815363"
      ]
     },
     "execution_count": 15,
     "metadata": {},
     "output_type": "execute_result"
    }
   ],
   "source": [
    "import pandas as pd \n",
    "df = pd.DataFrame(np.random.randn(10,5))\n",
    "df"
   ]
  },
  {
   "cell_type": "code",
   "execution_count": 16,
   "metadata": {},
   "outputs": [
    {
     "data": {
      "text/html": [
       "<div>\n",
       "<style scoped>\n",
       "    .dataframe tbody tr th:only-of-type {\n",
       "        vertical-align: middle;\n",
       "    }\n",
       "\n",
       "    .dataframe tbody tr th {\n",
       "        vertical-align: top;\n",
       "    }\n",
       "\n",
       "    .dataframe thead th {\n",
       "        text-align: right;\n",
       "    }\n",
       "</style>\n",
       "<table border=\"1\" class=\"dataframe\">\n",
       "  <thead>\n",
       "    <tr style=\"text-align: right;\">\n",
       "      <th></th>\n",
       "      <th>0</th>\n",
       "      <th>1</th>\n",
       "      <th>2</th>\n",
       "      <th>3</th>\n",
       "      <th>4</th>\n",
       "    </tr>\n",
       "  </thead>\n",
       "  <tbody>\n",
       "    <tr>\n",
       "      <th>0</th>\n",
       "      <td>-1.471735</td>\n",
       "      <td>0.414636</td>\n",
       "      <td>-0.848944</td>\n",
       "      <td>0.221584</td>\n",
       "      <td>0.924999</td>\n",
       "    </tr>\n",
       "    <tr>\n",
       "      <th>1</th>\n",
       "      <td>-0.973335</td>\n",
       "      <td>-0.113012</td>\n",
       "      <td>1.154786</td>\n",
       "      <td>-0.169504</td>\n",
       "      <td>-0.937381</td>\n",
       "    </tr>\n",
       "    <tr>\n",
       "      <th>2</th>\n",
       "      <td>0.230324</td>\n",
       "      <td>1.397997</td>\n",
       "      <td>1.484720</td>\n",
       "      <td>-1.010259</td>\n",
       "      <td>-0.147182</td>\n",
       "    </tr>\n",
       "    <tr>\n",
       "      <th>3</th>\n",
       "      <td>-0.949955</td>\n",
       "      <td>-0.092791</td>\n",
       "      <td>0.729073</td>\n",
       "      <td>1.067498</td>\n",
       "      <td>-0.484951</td>\n",
       "    </tr>\n",
       "    <tr>\n",
       "      <th>4</th>\n",
       "      <td>-0.028991</td>\n",
       "      <td>-0.325178</td>\n",
       "      <td>0.623501</td>\n",
       "      <td>1.305387</td>\n",
       "      <td>-0.743175</td>\n",
       "    </tr>\n",
       "  </tbody>\n",
       "</table>\n",
       "</div>"
      ],
      "text/plain": [
       "          0         1         2         3         4\n",
       "0 -1.471735  0.414636 -0.848944  0.221584  0.924999\n",
       "1 -0.973335 -0.113012  1.154786 -0.169504 -0.937381\n",
       "2  0.230324  1.397997  1.484720 -1.010259 -0.147182\n",
       "3 -0.949955 -0.092791  0.729073  1.067498 -0.484951\n",
       "4 -0.028991 -0.325178  0.623501  1.305387 -0.743175"
      ]
     },
     "execution_count": 16,
     "metadata": {},
     "output_type": "execute_result"
    }
   ],
   "source": [
    "df.head()"
   ]
  },
  {
   "cell_type": "code",
   "execution_count": 17,
   "metadata": {},
   "outputs": [
    {
     "ename": "SyntaxError",
     "evalue": "invalid syntax (<ipython-input-17-fb4cb1dbd1fe>, line 1)",
     "output_type": "error",
     "traceback": [
      "\u001b[0;36m  File \u001b[0;32m\"<ipython-input-17-fb4cb1dbd1fe>\"\u001b[0;36m, line \u001b[0;32m1\u001b[0m\n\u001b[0;31m    dd to delte cell\u001b[0m\n\u001b[0m        ^\u001b[0m\n\u001b[0;31mSyntaxError\u001b[0m\u001b[0;31m:\u001b[0m invalid syntax\n"
     ]
    }
   ],
   "source": [
    "dd to delte cell"
   ]
  },
  {
   "cell_type": "code",
   "execution_count": null,
   "metadata": {},
   "outputs": [],
   "source": []
  },
  {
   "cell_type": "code",
   "execution_count": null,
   "metadata": {},
   "outputs": [],
   "source": []
  },
  {
   "cell_type": "code",
   "execution_count": null,
   "metadata": {},
   "outputs": [],
   "source": []
  },
  {
   "cell_type": "code",
   "execution_count": null,
   "metadata": {},
   "outputs": [],
   "source": []
  },
  {
   "cell_type": "code",
   "execution_count": null,
   "metadata": {},
   "outputs": [],
   "source": []
  }
 ],
 "metadata": {
  "hide_input": false,
  "kernelspec": {
   "display_name": "Python 3",
   "language": "python",
   "name": "python3"
  },
  "language_info": {
   "codemirror_mode": {
    "name": "ipython",
    "version": 3
   },
   "file_extension": ".py",
   "mimetype": "text/x-python",
   "name": "python",
   "nbconvert_exporter": "python",
   "pygments_lexer": "ipython3",
   "version": "3.7.6"
  },
  "varInspector": {
   "cols": {
    "lenName": 16,
    "lenType": 16,
    "lenVar": 40
   },
   "kernels_config": {
    "python": {
     "delete_cmd_postfix": "",
     "delete_cmd_prefix": "del ",
     "library": "var_list.py",
     "varRefreshCmd": "print(var_dic_list())"
    },
    "r": {
     "delete_cmd_postfix": ") ",
     "delete_cmd_prefix": "rm(",
     "library": "var_list.r",
     "varRefreshCmd": "cat(var_dic_list()) "
    }
   },
   "types_to_exclude": [
    "module",
    "function",
    "builtin_function_or_method",
    "instance",
    "_Feature"
   ],
   "window_display": false
  }
 },
 "nbformat": 4,
 "nbformat_minor": 2
}
